{
  "nbformat": 4,
  "nbformat_minor": 0,
  "metadata": {
    "colab": {
      "name": "NLP DevSkiller.ipynb",
      "provenance": [],
      "collapsed_sections": [],
      "toc_visible": true
    },
    "kernelspec": {
      "name": "python3",
      "display_name": "Python 3"
    },
    "language_info": {
      "name": "python"
    }
  },
  "cells": [
    {
      "cell_type": "markdown",
      "metadata": {
        "id": "3qxeYdInJKsR"
      },
      "source": [
        "#Sentiment analysis of customer reviews"
      ]
    },
    {
      "cell_type": "code",
      "metadata": {
        "id": "kVdxL5y1JgMT"
      },
      "source": [
        "%tensorflow_version 2.x\n",
        "import tensorflow as tf\n",
        "import numpy as np\n",
        "import pandas as pd\n",
        "from tensorflow import keras\n",
        "from bs4 import BeautifulSoup "
      ],
      "execution_count": null,
      "outputs": []
    },
    {
      "cell_type": "markdown",
      "metadata": {
        "id": "dAfAg6PJaZC1"
      },
      "source": [
        "#Tokenizer"
      ]
    },
    {
      "cell_type": "code",
      "metadata": {
        "colab": {
          "base_uri": "https://localhost:8080/",
          "height": 419
        },
        "id": "d8F0yZvUJnSx",
        "outputId": "348717e0-9961-4ab8-805e-2d1aabe8b231"
      },
      "source": [
        "df = pd.read_csv(\"/content/reviews.csv\")\n",
        "df"
      ],
      "execution_count": null,
      "outputs": [
        {
          "output_type": "execute_result",
          "data": {
            "text/html": [
              "<div>\n",
              "<style scoped>\n",
              "    .dataframe tbody tr th:only-of-type {\n",
              "        vertical-align: middle;\n",
              "    }\n",
              "\n",
              "    .dataframe tbody tr th {\n",
              "        vertical-align: top;\n",
              "    }\n",
              "\n",
              "    .dataframe thead th {\n",
              "        text-align: right;\n",
              "    }\n",
              "</style>\n",
              "<table border=\"1\" class=\"dataframe\">\n",
              "  <thead>\n",
              "    <tr style=\"text-align: right;\">\n",
              "      <th></th>\n",
              "      <th>Unnamed: 0</th>\n",
              "      <th>review</th>\n",
              "      <th>sentiment</th>\n",
              "      <th>source</th>\n",
              "    </tr>\n",
              "  </thead>\n",
              "  <tbody>\n",
              "    <tr>\n",
              "      <th>0</th>\n",
              "      <td>11872</td>\n",
              "      <td>@AmericanAir I've been trying to change a Thur...</td>\n",
              "      <td>negative</td>\n",
              "      <td>airlines</td>\n",
              "    </tr>\n",
              "    <tr>\n",
              "      <th>1</th>\n",
              "      <td>9920</td>\n",
              "      <td>@JetBlue Thanks JB. Actually, As a birder I lo...</td>\n",
              "      <td>positive</td>\n",
              "      <td>airlines</td>\n",
              "    </tr>\n",
              "    <tr>\n",
              "      <th>2</th>\n",
              "      <td>23052</td>\n",
              "      <td>“@AmericanAir: @Dumas2TTG Good morning, Tamara...</td>\n",
              "      <td>negative</td>\n",
              "      <td>airlines</td>\n",
              "    </tr>\n",
              "    <tr>\n",
              "      <th>3</th>\n",
              "      <td>11149</td>\n",
              "      <td>@united 12/13EWR-LAX UA1151 my seat/armrest br...</td>\n",
              "      <td>negative</td>\n",
              "      <td>airlines</td>\n",
              "    </tr>\n",
              "    <tr>\n",
              "      <th>4</th>\n",
              "      <td>10471</td>\n",
              "      <td>@united Thanks, I will!</td>\n",
              "      <td>positive</td>\n",
              "      <td>airlines</td>\n",
              "    </tr>\n",
              "    <tr>\n",
              "      <th>...</th>\n",
              "      <td>...</td>\n",
              "      <td>...</td>\n",
              "      <td>...</td>\n",
              "      <td>...</td>\n",
              "    </tr>\n",
              "    <tr>\n",
              "      <th>9945</th>\n",
              "      <td>22787</td>\n",
              "      <td>I rate this 10 out of 10. Why?&lt;br /&gt;&lt;br /&gt;* It...</td>\n",
              "      <td>positive</td>\n",
              "      <td>movies</td>\n",
              "    </tr>\n",
              "    <tr>\n",
              "      <th>9946</th>\n",
              "      <td>12467</td>\n",
              "      <td>and anyone who watches this film will agree. T...</td>\n",
              "      <td>positive</td>\n",
              "      <td>movies</td>\n",
              "    </tr>\n",
              "    <tr>\n",
              "      <th>9947</th>\n",
              "      <td>10769</td>\n",
              "      <td>It would appear that some previous reviewers m...</td>\n",
              "      <td>positive</td>\n",
              "      <td>movies</td>\n",
              "    </tr>\n",
              "    <tr>\n",
              "      <th>9948</th>\n",
              "      <td>13104</td>\n",
              "      <td>Ik know it is impossible to keep all details o...</td>\n",
              "      <td>negative</td>\n",
              "      <td>movies</td>\n",
              "    </tr>\n",
              "    <tr>\n",
              "      <th>9949</th>\n",
              "      <td>16504</td>\n",
              "      <td>@united How about free wifi when your flights ...</td>\n",
              "      <td>negative</td>\n",
              "      <td>airlines</td>\n",
              "    </tr>\n",
              "  </tbody>\n",
              "</table>\n",
              "<p>9950 rows × 4 columns</p>\n",
              "</div>"
            ],
            "text/plain": [
              "      Unnamed: 0  ...    source\n",
              "0          11872  ...  airlines\n",
              "1           9920  ...  airlines\n",
              "2          23052  ...  airlines\n",
              "3          11149  ...  airlines\n",
              "4          10471  ...  airlines\n",
              "...          ...  ...       ...\n",
              "9945       22787  ...    movies\n",
              "9946       12467  ...    movies\n",
              "9947       10769  ...    movies\n",
              "9948       13104  ...    movies\n",
              "9949       16504  ...  airlines\n",
              "\n",
              "[9950 rows x 4 columns]"
            ]
          },
          "metadata": {},
          "execution_count": 151
        }
      ]
    },
    {
      "cell_type": "code",
      "metadata": {
        "colab": {
          "base_uri": "https://localhost:8080/"
        },
        "id": "0K5K0qBXKhRB",
        "outputId": "95e50d98-c924-4fe2-a544-bff04dfeeddd"
      },
      "source": [
        "review_df = df['review']\n",
        "review_df "
      ],
      "execution_count": null,
      "outputs": [
        {
          "output_type": "execute_result",
          "data": {
            "text/plain": [
              "0       @AmericanAir I've been trying to change a Thur...\n",
              "1       @JetBlue Thanks JB. Actually, As a birder I lo...\n",
              "2       “@AmericanAir: @Dumas2TTG Good morning, Tamara...\n",
              "3       @united 12/13EWR-LAX UA1151 my seat/armrest br...\n",
              "4                                 @united Thanks, I will!\n",
              "                              ...                        \n",
              "9945    I rate this 10 out of 10. Why?<br /><br />* It...\n",
              "9946    and anyone who watches this film will agree. T...\n",
              "9947    It would appear that some previous reviewers m...\n",
              "9948    Ik know it is impossible to keep all details o...\n",
              "9949    @united How about free wifi when your flights ...\n",
              "Name: review, Length: 9950, dtype: object"
            ]
          },
          "metadata": {},
          "execution_count": 152
        }
      ]
    },
    {
      "cell_type": "markdown",
      "metadata": {
        "id": "SjRdTxpLal35"
      },
      "source": [
        "##Tokenize with keras\n",
        "##1.remove html tag\n",
        "##2.lower case\n",
        "##3.split .isnotalnum except arpostrophe\n",
        "##4.remove empty token"
      ]
    },
    {
      "cell_type": "code",
      "metadata": {
        "colab": {
          "base_uri": "https://localhost:8080/"
        },
        "id": "KZdfjO2zKswZ",
        "outputId": "804f1c39-7886-4e6c-ed12-6c49d76f17e1"
      },
      "source": [
        "for i in range (0,len(review_df)) :\n",
        "  review_df[i] = ' '.join(BeautifulSoup(review_df[i], \"html.parser\").stripped_strings)  # ชนิดของตัวถอดข้อความ ที่ใช้อ่าน html\n",
        "  review_df[i] = keras.preprocessing.text.text_to_word_sequence(review_df[i]) #split\n",
        "review_df\n"
      ],
      "execution_count": null,
      "outputs": [
        {
          "output_type": "stream",
          "name": "stderr",
          "text": [
            "/usr/local/lib/python3.7/dist-packages/ipykernel_launcher.py:2: SettingWithCopyWarning: \n",
            "A value is trying to be set on a copy of a slice from a DataFrame\n",
            "\n",
            "See the caveats in the documentation: https://pandas.pydata.org/pandas-docs/stable/user_guide/indexing.html#returning-a-view-versus-a-copy\n",
            "  \n",
            "/usr/local/lib/python3.7/dist-packages/ipykernel_launcher.py:3: SettingWithCopyWarning: \n",
            "A value is trying to be set on a copy of a slice from a DataFrame\n",
            "\n",
            "See the caveats in the documentation: https://pandas.pydata.org/pandas-docs/stable/user_guide/indexing.html#returning-a-view-versus-a-copy\n",
            "  This is separate from the ipykernel package so we can avoid doing imports until\n"
          ]
        },
        {
          "output_type": "execute_result",
          "data": {
            "text/plain": [
              "0       [americanair, i've, been, trying, to, change, ...\n",
              "1       [jetblue, thanks, jb, actually, as, a, birder,...\n",
              "2       [“, americanair, dumas2ttg, good, morning, tam...\n",
              "3       [united, 12, 13ewr, lax, ua1151, my, seat, arm...\n",
              "4                               [united, thanks, i, will]\n",
              "                              ...                        \n",
              "9945    [i, rate, this, 10, out, of, 10, why, it, offe...\n",
              "9946    [and, anyone, who, watches, this, film, will, ...\n",
              "9947    [it, would, appear, that, some, previous, revi...\n",
              "9948    [ik, know, it, is, impossible, to, keep, all, ...\n",
              "9949    [united, how, about, free, wifi, when, your, f...\n",
              "Name: review, Length: 9950, dtype: object"
            ]
          },
          "metadata": {},
          "execution_count": 153
        }
      ]
    },
    {
      "cell_type": "markdown",
      "metadata": {
        "id": "Nt4PAgiIchMe"
      },
      "source": [
        "## more cleaning\n",
        "## ' , ´ , ’ , emoji"
      ]
    },
    {
      "cell_type": "code",
      "metadata": {
        "id": "2Zt0Mk5DMgH8"
      },
      "source": [
        "def clean_text(text,filters='!\"#$%&()*+,-./:;<=>?@[\\\\]^_`{|}~\\t\\n',lower=True, split=' '):\n",
        "    x = text\n",
        "    if (text.isalnum() == False) :\n",
        "        if (\"'\" in text) or (\"’\" in text) or (\"´\" in text):\n",
        "            pass\n",
        "        else :\n",
        "            x = None\n",
        "    return x "
      ],
      "execution_count": null,
      "outputs": []
    },
    {
      "cell_type": "code",
      "metadata": {
        "colab": {
          "base_uri": "https://localhost:8080/"
        },
        "id": "mzupDkGMLQeT",
        "outputId": "513b3f81-86da-4a99-a0b3-cb9774c5582b"
      },
      "source": [
        "for i in range (0,len(review_df)) :\n",
        "  for x in range (0,len(review_df[i])) :\n",
        "    review_df[i][x] = clean_text(review_df[i][x])\n",
        "review_df"
      ],
      "execution_count": null,
      "outputs": [
        {
          "output_type": "execute_result",
          "data": {
            "text/plain": [
              "0       [americanair, i've, been, trying, to, change, ...\n",
              "1       [jetblue, thanks, jb, actually, as, a, birder,...\n",
              "2       [None, americanair, dumas2ttg, good, morning, ...\n",
              "3       [united, 12, 13ewr, lax, ua1151, my, seat, arm...\n",
              "4                               [united, thanks, i, will]\n",
              "                              ...                        \n",
              "9945    [i, rate, this, 10, out, of, 10, why, it, offe...\n",
              "9946    [and, anyone, who, watches, this, film, will, ...\n",
              "9947    [it, would, appear, that, some, previous, revi...\n",
              "9948    [ik, know, it, is, impossible, to, keep, all, ...\n",
              "9949    [united, how, about, free, wifi, when, your, f...\n",
              "Name: review, Length: 9950, dtype: object"
            ]
          },
          "metadata": {},
          "execution_count": 155
        }
      ]
    },
    {
      "cell_type": "markdown",
      "metadata": {
        "id": "ry00FurFZ802"
      },
      "source": [
        "#Test Case "
      ]
    },
    {
      "cell_type": "code",
      "metadata": {
        "id": "AsWpEEtwN6eB"
      },
      "source": [
        "def tokenize (list_of_text) :\n",
        "  list_of_text = ' '.join(BeautifulSoup(list_of_text, \"html.parser\").stripped_strings)\n",
        "  list_of_text = keras.preprocessing.text.text_to_word_sequence(list_of_text)\n",
        "  return list_of_text"
      ],
      "execution_count": null,
      "outputs": []
    },
    {
      "cell_type": "code",
      "metadata": {
        "colab": {
          "base_uri": "https://localhost:8080/"
        },
        "id": "aQMcjUrGPBlD",
        "outputId": "d5f1521f-7261-4728-dbf3-23da1f64a61b"
      },
      "source": [
        "# Test tokenizer, removing tags.\n",
        "l1 = ['Paragraph 1<br />#Paragraph <a href=\"https://link.co\">2</a>']\n",
        "#Test tokenizer, apostrophe.\n",
        "l2 = [\"What's up?\"]\n",
        "#Test tokenizer, dots and dashes.\n",
        "l3 = [\"High-level... low-cost... method...\"]\n",
        "#Test tokenizer, asterisks.\n",
        "l4 = [\"Although never is often better than *right* now.\"]\n",
        "#Test tokenizer, apostrophes, dashes, exclamation mark.\n",
        "l5 = [\"Namespaces are one honking great idea -- let's do more of those!\"]\n",
        "#Test tokenizer, numbers.\n",
        "l6 = [\"12/13EWR-LAX UA1151\"]\n",
        "list_of_text =[l1,l2,l3,l4,l5,l6]\n",
        "list_of_text"
      ],
      "execution_count": null,
      "outputs": [
        {
          "output_type": "execute_result",
          "data": {
            "text/plain": [
              "[['Paragraph 1<br />#Paragraph <a href=\"https://link.co\">2</a>'],\n",
              " [\"What's up?\"],\n",
              " ['High-level... low-cost... method...'],\n",
              " ['Although never is often better than *right* now.'],\n",
              " [\"Namespaces are one honking great idea -- let's do more of those!\"],\n",
              " ['12/13EWR-LAX UA1151']]"
            ]
          },
          "metadata": {},
          "execution_count": 157
        }
      ]
    },
    {
      "cell_type": "code",
      "metadata": {
        "id": "VGqMf3uaPyRJ"
      },
      "source": [
        "for i in range (0,len(list_of_text)) :\n",
        "  list_of_text[i][0] = tokenize(list_of_text[i][0])"
      ],
      "execution_count": null,
      "outputs": []
    },
    {
      "cell_type": "code",
      "metadata": {
        "colab": {
          "base_uri": "https://localhost:8080/"
        },
        "id": "ktpLnKHeZUyY",
        "outputId": "c9b1ee9f-06f7-4e4d-d150-6055c6ca7888"
      },
      "source": [
        "list_of_text"
      ],
      "execution_count": null,
      "outputs": [
        {
          "output_type": "execute_result",
          "data": {
            "text/plain": [
              "[[['paragraph', '1', 'paragraph', '2']],\n",
              " [[\"what's\", 'up']],\n",
              " [['high', 'level', 'low', 'cost', 'method']],\n",
              " [['although', 'never', 'is', 'often', 'better', 'than', 'right', 'now']],\n",
              " [['namespaces',\n",
              "   'are',\n",
              "   'one',\n",
              "   'honking',\n",
              "   'great',\n",
              "   'idea',\n",
              "   \"let's\",\n",
              "   'do',\n",
              "   'more',\n",
              "   'of',\n",
              "   'those']],\n",
              " [['12', '13ewr', 'lax', 'ua1151']]]"
            ]
          },
          "metadata": {},
          "execution_count": 159
        }
      ]
    },
    {
      "cell_type": "markdown",
      "metadata": {
        "id": "BLhbkgzNdKGE"
      },
      "source": [
        "# --------------------------------------------------------------------------------"
      ]
    },
    {
      "cell_type": "markdown",
      "metadata": {
        "id": "U6-jOUOSdXFe"
      },
      "source": [
        "# Vectorize"
      ]
    },
    {
      "cell_type": "code",
      "metadata": {
        "id": "Wt1woHMRf_dQ"
      },
      "source": [
        "def vectorize(tokens) :\n",
        "  listtext = []   #['One Two Three Four']\n",
        "  vectorize_layer = keras.layers.experimental.preprocessing.TextVectorization(max_tokens=10000,output_mode='int',output_sequence_length=64)  #แปลงข้อความเป็นเวกเตอร์ของค่า\n",
        "  # vectorize_layer = keras.layers.preprocessing.text_vectorization.TextVectorization(max_tokens=self.max_features,output_mode='int',output_sequence_length=self.max_len)\n",
        "  list_group = []\n",
        "  for i in range (0,len(tokens)) :\n",
        "      list_group = list_group +tokens[i]  #['One', 'Two', 'Three', 'Four']\n",
        "      text_join = ' '.join(tokens[i])   #One Two Three Four\n",
        "      listtext.append(text_join)\n",
        "            # vectorize_layer = keras.layers.preprocessing.text_vectorization.TextVectorization(max_tokens=self.max_features,output_mode='int',output_sequence_length=self.max_len)\n",
        "  text_dataset = tf.data.Dataset.from_tensor_slices(list_group) #tensor elements.\n",
        "  vectorize_layer.adapt(text_dataset.batch(64))\n",
        "  model = keras.models.Sequential()\n",
        "  model.add(keras.Input(shape=(1,), dtype=tf.string))\n",
        "  model.add(vectorize_layer)\n",
        "  # print(listtext)\n",
        "  # print(list_group)\n",
        "  # print(text_join)\n",
        "  return model.predict(listtext)"
      ],
      "execution_count": null,
      "outputs": []
    },
    {
      "cell_type": "code",
      "metadata": {
        "colab": {
          "base_uri": "https://localhost:8080/"
        },
        "id": "KHEkgRnsdLjP",
        "outputId": "e8395cef-d1b1-456b-f6a1-2b5dace3aca4"
      },
      "source": [
        "tokens = [[\"One\", \"Two\", \"Three\", \"Four\"]]\n",
        "vectors = vectorize(tokens)\n",
        "print(vectors)\n",
        "print(len(vectors))\n",
        "print(len(vectors[0]))\n",
        "print(len(np.unique(vectors)))\n"
      ],
      "execution_count": null,
      "outputs": [
        {
          "output_type": "stream",
          "name": "stdout",
          "text": [
            "[[4 2 3 5 0 0 0 0 0 0 0 0 0 0 0 0 0 0 0 0 0 0 0 0 0 0 0 0 0 0 0 0 0 0 0 0\n",
            "  0 0 0 0 0 0 0 0 0 0 0 0 0 0 0 0 0 0 0 0 0 0 0 0 0 0 0 0]]\n",
            "1\n",
            "64\n",
            "5\n"
          ]
        }
      ]
    },
    {
      "cell_type": "code",
      "metadata": {
        "colab": {
          "base_uri": "https://localhost:8080/"
        },
        "id": "jsweEdw1gZr3",
        "outputId": "b779fa22-ba1a-438b-9842-9f646fa0b2e9"
      },
      "source": [
        "tokens = [\n",
        "            [\"thanks\", \"i\", \"will\"],\n",
        "            [\"this\", \"was\", \"an\", \"ugly\", \"movie\"],\n",
        "            [\"i\", \"can\", \"say\", \"nothing\", \"more\"],\n",
        "            [\"hey\", \"folks\", \"where\", \"do\", \"you\", \"hide\", \"luggage\"],\n",
        "            [\"yep\", \"as\", \"i\", \"said\", \"i\", \"feel\", \"sorry\"],\n",
        "            [\"it\", \"has\", \"singing\", \"it\", \"has\", \"drama\"],\n",
        "        ]\n",
        "vectors = vectorize(tokens)\n",
        "print(vectors)\n",
        "print(len(vectors))\n",
        "print(len(vectors[0]))\n",
        "print(len(np.unique(vectors)))"
      ],
      "execution_count": null,
      "outputs": [
        {
          "output_type": "stream",
          "name": "stdout",
          "text": [
            "[[12  2  7  0  0  0  0  0  0  0  0  0  0  0  0  0  0  0  0  0  0  0  0  0\n",
            "   0  0  0  0  0  0  0  0  0  0  0  0  0  0  0  0  0  0  0  0  0  0  0  0\n",
            "   0  0  0  0  0  0  0  0  0  0  0  0  0  0  0  0]\n",
            " [11  9 29 10 18  0  0  0  0  0  0  0  0  0  0  0  0  0  0  0  0  0  0  0\n",
            "   0  0  0  0  0  0  0  0  0  0  0  0  0  0  0  0  0  0  0  0  0  0  0  0\n",
            "   0  0  0  0  0  0  0  0  0  0  0  0  0  0  0  0]\n",
            " [ 2 27 15 17 19  0  0  0  0  0  0  0  0  0  0  0  0  0  0  0  0  0  0  0\n",
            "   0  0  0  0  0  0  0  0  0  0  0  0  0  0  0  0  0  0  0  0  0  0  0  0\n",
            "   0  0  0  0  0  0  0  0  0  0  0  0  0  0  0  0]\n",
            " [22 23  8 26  5 21 20  0  0  0  0  0  0  0  0  0  0  0  0  0  0  0  0  0\n",
            "   0  0  0  0  0  0  0  0  0  0  0  0  0  0  0  0  0  0  0  0  0  0  0  0\n",
            "   0  0  0  0  0  0  0  0  0  0  0  0  0  0  0  0]\n",
            " [ 6 28  2 16  2 24 13  0  0  0  0  0  0  0  0  0  0  0  0  0  0  0  0  0\n",
            "   0  0  0  0  0  0  0  0  0  0  0  0  0  0  0  0  0  0  0  0  0  0  0  0\n",
            "   0  0  0  0  0  0  0  0  0  0  0  0  0  0  0  0]\n",
            " [ 3  4 14  3  4 25  0  0  0  0  0  0  0  0  0  0  0  0  0  0  0  0  0  0\n",
            "   0  0  0  0  0  0  0  0  0  0  0  0  0  0  0  0  0  0  0  0  0  0  0  0\n",
            "   0  0  0  0  0  0  0  0  0  0  0  0  0  0  0  0]]\n",
            "6\n",
            "64\n",
            "29\n"
          ]
        }
      ]
    },
    {
      "cell_type": "markdown",
      "metadata": {
        "id": "vCSS9DX6GrkT"
      },
      "source": [
        "# --------------------------------------------------------------------------------"
      ]
    },
    {
      "cell_type": "markdown",
      "metadata": {
        "id": "RyyjQtw8Gj_c"
      },
      "source": [
        "#Build_Model"
      ]
    },
    {
      "cell_type": "code",
      "metadata": {
        "id": "BBFw7Xuy-JFC",
        "colab": {
          "base_uri": "https://localhost:8080/",
          "height": 174
        },
        "outputId": "b962266c-542c-41cb-f8b5-cc033e299748"
      },
      "source": [
        "inputs = keras.layers.Input(shape=(64,),name='input')\n",
        "output_1 = keras.layers.Dense(3, activation=\"sigmoid\",name='sentiments')(inputs)\n",
        "output_2 = keras.layers.Dense(3, activation=\"sigmoid\",name='movies')(inputs)\n",
        "output_3 = keras.layers.Dense(3, activation=\"sigmoid\",name='airlines')(inputs)\n",
        "model = keras.models.Model(inputs=inputs, outputs=[output_1, output_2, output_3])\n",
        "model.compile()\n",
        "# model.summary()\n",
        "keras.utils.plot_model(model, to_file='multiple_outputs.png')"
      ],
      "execution_count": null,
      "outputs": [
        {
          "output_type": "execute_result",
          "data": {
            "image/png": "[encoded data removed]",
            "text/plain": [
              "<IPython.core.display.Image object>"
            ]
          },
          "metadata": {},
          "execution_count": 163
        }
      ]
    },
    {
      "cell_type": "code",
      "metadata": {
        "id": "ugjBGszZ6hn5"
      },
      "source": [
        ""
      ],
      "execution_count": null,
      "outputs": []
    }
  ]
}